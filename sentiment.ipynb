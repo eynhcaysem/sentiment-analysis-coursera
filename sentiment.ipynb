{
 "cells": [
  {
   "cell_type": "markdown",
   "metadata": {},
   "source": [
    "# Сентимент-анализ отзывов на мобильные телефоны"
   ]
  },
  {
   "cell_type": "markdown",
   "metadata": {},
   "source": [
    "## Постановка задачи\n",
    "Дано сто отзывов на мобильные телефоны, разделённых на два класса по своей эмоциональной окраске: положительные и отрицательные. Задачей является построение модели машинного обучения, предсказывающей, к какому классу относится отзыв. При этом исходная выборка используется для проверки качества обученной модели. В качестве метрики используется точность (accuracy), что является обоснованным, так как классы в тестовой выборке сбалансированы. Желаемым является значение метрики не менее 0.85."
   ]
  },
  {
   "cell_type": "markdown",
   "metadata": {},
   "source": [
    "## Сбор данных\n",
    "Источником данных для обучения модели послужил раздел \"Смартфоны\" на Яндекс Маркете. Отзывов в разделе довольно много, и каждый имеет пользовательскую оценку от одной до пяти звёзд. Последнее позволяет автоматически разделить отзывы на положительные и отрицательные. Проблема в том, что Яндекс Маркет активно мешает использованию ботов, а доступ к API предоставляет только платно, поэтому было решено использовать веб-скрэйпер, написанный с помощью python-интерфейса Selenium - инструмента для автоматизации действий веб-браузера. Такой скрэйпер детектируется не сразу, и, в худшем случае, за время его работы несколько раз придётся вручную решить капчу. \"Обычные\" же скрейперы, вроде Scrapy, с Яндекс Маркетом не работают вообще, так как на их запросы сервер отвечает, что доступ запрещён (403)."
   ]
  },
  {
   "cell_type": "markdown",
   "metadata": {},
   "source": [
    "Отзывы на Яндекс Маркете имеют следующую структуру: текст разделён на описание достоинств, описание недостатков и пользовательский комментарий. При этом можно встретить как отзывы, следующие этому разделению, так и, например, такие, основное содержание которых находится в комментарии. Поэтому было решено сохранять тексты из всех трёх разделов (некоторые из них могут в отзыве отсутствовать), а затем объединять их в один, разделив переносом строки. Названия разделов не сохраняются."
   ]
  },
  {
   "cell_type": "markdown",
   "metadata": {},
   "source": [
    "Скрипт, использованный для сбора данных, может быть найден в папке ym_scraping, вместе с результатом его работы - файлом data_ym_raw.txt. Для того, чтобы скрипт заработал, необходимо загрузить веб драйвер для соответствующего браузера, а затем указать внутри файла скрипта путь к нему. В данном проекте был использован Chrome Webdriver, скачать который можно по ссылке https://sites.google.com/a/chromium.org/chromedriver/downloads. Стоит заметить, что скрипт на момент написания работал нестабильно, а, учитывая тенденцию веб-сайтов меняться со временем, вообще, скорее всего, через некоторое время вообще перестанет работать. Поэтому запускать его вряд ли имеет смысл."
   ]
  },
  {
   "cell_type": "markdown",
   "metadata": {},
   "source": [
    "## Импорт библиотек\n",
    "Теперь, когда данные для обучения собраны, импортируем всё необходимое для выполнения проекта. Предварительная обработка данных будет производиться с помощью библиотек pandas (удаление дубликатов, слишком коротких отзывов и пропущенных значений, а также разметка отзывов на основе оценок покупателей) и spacy (лемматизация текстов отзывов). Для построения и оценки моделей будет использована библиотека scikit-learn."
   ]
  },
  {
   "cell_type": "code",
   "execution_count": 38,
   "metadata": {},
   "outputs": [],
   "source": [
    "import pandas as pd\n",
    "import matplotlib.pyplot as plt\n",
    "import spacy\n",
    "from numpy import vectorize\n",
    "from sklearn.pipeline import Pipeline, make_pipeline\n",
    "from sklearn.feature_extraction.text import CountVectorizer, TfidfVectorizer\n",
    "from sklearn.preprocessing import Normalizer, FunctionTransformer\n",
    "from sklearn.svm import LinearSVC\n",
    "from sklearn.metrics import make_scorer\n",
    "from sklearn.model_selection import RandomizedSearchCV, GridSearchCV\n",
    "from sklearn.metrics import balanced_accuracy_score, accuracy_score"
   ]
  },
  {
   "cell_type": "markdown",
   "metadata": {},
   "source": [
    "## Предварительная обработка данных\n",
    "### Загрузка данных\n",
    "Загрузим собранные данные с помощью метода read_csv из библиотеки pandas и посмотрим на них."
   ]
  },
  {
   "cell_type": "code",
   "execution_count": 3,
   "metadata": {},
   "outputs": [
    {
     "data": {
      "text/html": [
       "<div>\n",
       "<style scoped>\n",
       "    .dataframe tbody tr th:only-of-type {\n",
       "        vertical-align: middle;\n",
       "    }\n",
       "\n",
       "    .dataframe tbody tr th {\n",
       "        vertical-align: top;\n",
       "    }\n",
       "\n",
       "    .dataframe thead th {\n",
       "        text-align: right;\n",
       "    }\n",
       "</style>\n",
       "<table border=\"1\" class=\"dataframe\">\n",
       "  <thead>\n",
       "    <tr style=\"text-align: right;\">\n",
       "      <th></th>\n",
       "      <th>text</th>\n",
       "      <th>rating</th>\n",
       "    </tr>\n",
       "  </thead>\n",
       "  <tbody>\n",
       "    <tr>\n",
       "      <th>0</th>\n",
       "      <td>Долго держит заряд. Яркий и четкий экран. Есть...</td>\n",
       "      <td>5</td>\n",
       "    </tr>\n",
       "    <tr>\n",
       "      <th>1</th>\n",
       "      <td>Камера, шустрый, цвет красивый, памяти много Н...</td>\n",
       "      <td>5</td>\n",
       "    </tr>\n",
       "    <tr>\n",
       "      <th>2</th>\n",
       "      <td>Удобный, громкий, хорошо сидит в руке.</td>\n",
       "      <td>5</td>\n",
       "    </tr>\n",
       "    <tr>\n",
       "      <th>3</th>\n",
       "      <td>неплохие камеры, шустрость начинки, удобный ра...</td>\n",
       "      <td>4</td>\n",
       "    </tr>\n",
       "    <tr>\n",
       "      <th>4</th>\n",
       "      <td>После включения обновляем прошивку, далее с по...</td>\n",
       "      <td>5</td>\n",
       "    </tr>\n",
       "    <tr>\n",
       "      <th>...</th>\n",
       "      <td>...</td>\n",
       "      <td>...</td>\n",
       "    </tr>\n",
       "    <tr>\n",
       "      <th>141691</th>\n",
       "      <td>Цена Пока что нет -</td>\n",
       "      <td>4</td>\n",
       "    </tr>\n",
       "    <tr>\n",
       "      <th>141692</th>\n",
       "      <td>Для смартфона столь доступного по цене достоин...</td>\n",
       "      <td>5</td>\n",
       "    </tr>\n",
       "    <tr>\n",
       "      <th>141693</th>\n",
       "      <td>Камера Внешний вид Эргономика Плавность и быст...</td>\n",
       "      <td>5</td>\n",
       "    </tr>\n",
       "    <tr>\n",
       "      <th>141694</th>\n",
       "      <td>Неплохая автономность, 10,5 часов работы экран...</td>\n",
       "      <td>4</td>\n",
       "    </tr>\n",
       "    <tr>\n",
       "      <th>141695</th>\n",
       "      <td>Отзывчивый экран, чистый андроид, не плохая ка...</td>\n",
       "      <td>5</td>\n",
       "    </tr>\n",
       "  </tbody>\n",
       "</table>\n",
       "<p>141696 rows × 2 columns</p>\n",
       "</div>"
      ],
      "text/plain": [
       "                                                     text  rating\n",
       "0       Долго держит заряд. Яркий и четкий экран. Есть...       5\n",
       "1       Камера, шустрый, цвет красивый, памяти много Н...       5\n",
       "2                  Удобный, громкий, хорошо сидит в руке.       5\n",
       "3       неплохие камеры, шустрость начинки, удобный ра...       4\n",
       "4       После включения обновляем прошивку, далее с по...       5\n",
       "...                                                   ...     ...\n",
       "141691                                Цена Пока что нет -       4\n",
       "141692  Для смартфона столь доступного по цене достоин...       5\n",
       "141693  Камера Внешний вид Эргономика Плавность и быст...       5\n",
       "141694  Неплохая автономность, 10,5 часов работы экран...       4\n",
       "141695  Отзывчивый экран, чистый андроид, не плохая ка...       5\n",
       "\n",
       "[141696 rows x 2 columns]"
      ]
     },
     "execution_count": 3,
     "metadata": {},
     "output_type": "execute_result"
    }
   ],
   "source": [
    "data_ym_raw = pd.read_csv('data_ym_raw.tsv', sep='\\t', names=['text', 'rating'])\n",
    "data_ym_raw"
   ]
  },
  {
   "cell_type": "markdown",
   "metadata": {},
   "source": [
    "### Удаление дубликатов\n",
    "Как можно видеть, отзывов получилось даже слишком много. Дело в том, что в данных присутствует множество дубликатов, связанных с неоптимальностью работы скрипта по их сбору: отзывы с текущей страницы он сохранял по нескольку раз, пока грузилась следующая. Посмотрим, насколько много дубликатов в данных."
   ]
  },
  {
   "cell_type": "code",
   "execution_count": 4,
   "metadata": {},
   "outputs": [
    {
     "name": "stdout",
     "output_type": "stream",
     "text": [
      "Всего отзывов:           141696\n",
      "Всего уникальных отзывов: 23229\n"
     ]
    }
   ],
   "source": [
    "print(f'Всего отзывов: {data_ym_raw.shape[0]:>16}')\n",
    "print(f'Всего уникальных отзывов: {data_ym_raw.text.unique().shape[0]}')"
   ]
  },
  {
   "cell_type": "markdown",
   "metadata": {},
   "source": [
    "Видно, что уникальные отзывы составляют лишь примерно седьмую часть от всех собранных. Начнём очистку данных: удалим все дубликаты."
   ]
  },
  {
   "cell_type": "code",
   "execution_count": 5,
   "metadata": {},
   "outputs": [],
   "source": [
    "# Операция не меняет исходный DataFrame, а возвращает результат, поэтому сохраним его в новую переменную.\n",
    "data_ym_unique = data_ym_raw.drop_duplicates()"
   ]
  },
  {
   "cell_type": "markdown",
   "metadata": {},
   "source": [
    "### Удаление пропущенных значений\n",
    "Теперь посмотрим на количество пропущенных значений в данных. Их появление вызвано тем, что иногда отзывы не содержали ни одного из сохраняемых скриптом разделов."
   ]
  },
  {
   "cell_type": "code",
   "execution_count": 6,
   "metadata": {},
   "outputs": [
    {
     "name": "stdout",
     "output_type": "stream",
     "text": [
      "Пропущенных значений в текстах отзывов: 5\n",
      "Пропущенных значений в пользовательских оценках: 0\n"
     ]
    }
   ],
   "source": [
    "print(f'Пропущенных значений в текстах отзывов: {data_ym_unique.text.isna().sum()}')\n",
    "print(f'Пропущенных значений в пользовательских оценках: {data_ym_unique.rating.isna().sum()}')"
   ]
  },
  {
   "cell_type": "markdown",
   "metadata": {},
   "source": [
    "Пропущенных значений всего пять, и их смело можно удалить."
   ]
  },
  {
   "cell_type": "code",
   "execution_count": 7,
   "metadata": {},
   "outputs": [],
   "source": [
    "data_ym_unique_not_na = data_ym_unique.dropna()"
   ]
  },
  {
   "cell_type": "markdown",
   "metadata": {},
   "source": [
    "### Удаление слишком коротких и слишком длинных отзывов\n",
    "Теперь имеет смысл отфильтровать тексты отзывов по их длине. Понятно, что слишком короткие отзывы могут пагубно сказаться на качестве модели, так как содержат недостаточно информации, чтобы сделать правильное предсказание. Длинные же тексты отзывов, вероятнее всего, представляют собой обширные описания опыта использования товара, и для предсказания их эмоциональной окраски требуется понимание всего текста целиком, что не под силу модели. Всё это - предположения, основанные на здравом смысле, но стоит иметь в виду, что они необязательно верны."
   ]
  },
  {
   "cell_type": "markdown",
   "metadata": {},
   "source": [
    "Для начала посмотрим на гистограмму числа слов всех уникальных отзывов."
   ]
  },
  {
   "cell_type": "code",
   "execution_count": 8,
   "metadata": {},
   "outputs": [
    {
     "data": {
      "image/png": "[encoded data removed]",
      "text/plain": [
       "<Figure size 1080x576 with 1 Axes>"
      ]
     },
     "metadata": {
      "needs_background": "light"
     },
     "output_type": "display_data"
    }
   ],
   "source": [
    "# Найдём число слов каждого уникального отзыва.\n",
    "text_lengths = data_ym_unique_not_na.text.apply(lambda x: len(x.split(\" \")))\n",
    "\n",
    "# Для построения гистограммы воспользуемся модулем pyplot библиотеки matplotlib.\n",
    "plt.figure(figsize=(15, 8))\n",
    "plt.hist(text_lengths, bins=100)\n",
    "plt.show()"
   ]
  },
  {
   "cell_type": "markdown",
   "metadata": {},
   "source": [
    "Как видно, распределение числа слов в отзыве очень похоже на экспоненциальное, что интересно уже само по себе. Исходя из гистограммы, принято решение далее рассматривать только те отзывы, число слов в которых не превышает четырёхсот. Таких отзывов крайне мало, поэтому их удаление не должно негативно сказаться на качестве модели."
   ]
  },
  {
   "cell_type": "markdown",
   "metadata": {},
   "source": [
    "Чтобы понять, какие отзывы следует считать слишком короткими, рассмотрим гистограмму числа слов отзывов вблизи нуля."
   ]
  },
  {
   "cell_type": "code",
   "execution_count": 9,
   "metadata": {},
   "outputs": [
    {
     "data": {
      "image/png": "[encoded data removed]",
      "text/plain": [
       "<Figure size 1080x576 with 1 Axes>"
      ]
     },
     "metadata": {
      "needs_background": "light"
     },
     "output_type": "display_data"
    }
   ],
   "source": [
    "# Выделим только длины отзывов меньше пятидесяти слов.\n",
    "text_lengths_short = text_lengths[text_lengths < 50]\n",
    "\n",
    "# Параметр bins подбираем так, чтобы форма распределения была лучше всего видна.\n",
    "plt.figure(figsize=(15, 8))\n",
    "plt.hist(text_lengths_short, bins=49)\n",
    "plt.show()"
   ]
  },
  {
   "cell_type": "markdown",
   "metadata": {},
   "source": [
    "Как видно, вблизи нуля распределение сначала растёт, а потом начинает убывать. Возьмём в качестве нижней границы числа слов в отзыве пять - значение, после которого распределение убывает. Это догадка, которую можно объяснить тем, что это единственное явно выделенное значение распределения. На самом деле, конечно, такой параметр следовало бы подбирать, но в данном проекте этого сделано не будет."
   ]
  },
  {
   "cell_type": "markdown",
   "metadata": {},
   "source": [
    "Оставим только те отзывы, число слов в которых не менее пяти и не более четырёхсот."
   ]
  },
  {
   "cell_type": "code",
   "execution_count": 10,
   "metadata": {},
   "outputs": [],
   "source": [
    "# В условии используется оператор &, так как он векторизован. \n",
    "data_ym_clean = data_ym_unique_not_na[(text_lengths >= 5) & (text_lengths <= 400)]"
   ]
  },
  {
   "cell_type": "markdown",
   "metadata": {},
   "source": [
    "На этом очистка данных завершена."
   ]
  },
  {
   "cell_type": "markdown",
   "metadata": {},
   "source": [
    "### Разделение отзывов на классы\n",
    "Постановка задачи требует, чтобы модель предсказывала принадлежность отзыва к одному из двух классов, поэтому каждый отзыв следует отнести либо к положительным (метка 1), либо к отрицательным (метка 0), основываясь на пользовательских оценках."
   ]
  },
  {
   "cell_type": "markdown",
   "metadata": {},
   "source": [
    "Для начала посмотрим, как распределены значения колонки rating, содержащей пользовательские оценки."
   ]
  },
  {
   "cell_type": "code",
   "execution_count": 11,
   "metadata": {},
   "outputs": [
    {
     "name": "stdout",
     "output_type": "stream",
     "text": [
      "5    14768\n",
      "4     3011\n",
      "3     1342\n",
      "1      956\n",
      "2      694\n",
      "Name: rating, dtype: int64\n"
     ]
    }
   ],
   "source": [
    "print(data_ym_clean.rating.value_counts())"
   ]
  },
  {
   "cell_type": "markdown",
   "metadata": {},
   "source": [
    "Сразу же можно заметить две проблемы. Первая сосотоит в том, что отзывов с низкими оценками (1 и 2) намного меньше, чем остальных. Эту проблему необходимо будет решить, так как в тестовой выборке классы сбалансированы. Вторая проблема заключается в неоднозначности пользовательской оценки 3. Отзывы с такой оценкой можно было бы считать нейтральными, однако задача поставлена так, что отзывы относятся либо к положительным, либо к отрицательным."
   ]
  },
  {
   "cell_type": "markdown",
   "metadata": {},
   "source": [
    "Решим сначала вторую проблему: удалим все отзывы с оценкой 3."
   ]
  },
  {
   "cell_type": "code",
   "execution_count": 12,
   "metadata": {},
   "outputs": [],
   "source": [
    "data_ym_without_neutral = data_ym_clean[data_ym_clean.rating != 3]"
   ]
  },
  {
   "cell_type": "markdown",
   "metadata": {},
   "source": [
    "Теперь разделим отзывы на два класса, относя к положительным те из них, для которых пользовательская оценка равна 4 или 5, а к отрицательным - те, для которых она равна 1 или 2."
   ]
  },
  {
   "cell_type": "code",
   "execution_count": 13,
   "metadata": {},
   "outputs": [],
   "source": [
    "# Получаем объект Series, содержащий метки классов, называем его \"label\".\n",
    "class_labels = (data_ym_without_neutral.rating > 3).astype(int).rename(\"label\")\n",
    "\n",
    "# Соединяем тексты отзывов с метками классов.\n",
    "data_ym_classes = pd.concat((data_ym_without_neutral.text, class_labels), axis=1)"
   ]
  },
  {
   "cell_type": "markdown",
   "metadata": {},
   "source": [
    "### Сохранение обработанных данных\n",
    "Очищенные и размеченные данные сохраним в отдельный файл."
   ]
  },
  {
   "cell_type": "code",
   "execution_count": 14,
   "metadata": {},
   "outputs": [],
   "source": [
    "# Разделяем табуляцией, так как запятые встречаются в текстах отзывов.\n",
    "# Колонку с индексами сохранять не нужно.\n",
    "data_ym_classes.to_csv('data_ym_classes.tsv', sep='\\t', index=False)"
   ]
  },
  {
   "cell_type": "markdown",
   "metadata": {},
   "source": [
    "## Построение пайплайна и подбор оптимальных параметров\n",
    "### Загрузка данных\n",
    "Загрузим полученные на предыдущем этапе данные и посмотрим на них."
   ]
  },
  {
   "cell_type": "code",
   "execution_count": 3,
   "metadata": {},
   "outputs": [
    {
     "data": {
      "text/html": [
       "<div>\n",
       "<style scoped>\n",
       "    .dataframe tbody tr th:only-of-type {\n",
       "        vertical-align: middle;\n",
       "    }\n",
       "\n",
       "    .dataframe tbody tr th {\n",
       "        vertical-align: top;\n",
       "    }\n",
       "\n",
       "    .dataframe thead th {\n",
       "        text-align: right;\n",
       "    }\n",
       "</style>\n",
       "<table border=\"1\" class=\"dataframe\">\n",
       "  <thead>\n",
       "    <tr style=\"text-align: right;\">\n",
       "      <th></th>\n",
       "      <th>text</th>\n",
       "      <th>label</th>\n",
       "    </tr>\n",
       "  </thead>\n",
       "  <tbody>\n",
       "    <tr>\n",
       "      <th>0</th>\n",
       "      <td>Долго держит заряд. Яркий и четкий экран. Есть...</td>\n",
       "      <td>1</td>\n",
       "    </tr>\n",
       "    <tr>\n",
       "      <th>1</th>\n",
       "      <td>Камера, шустрый, цвет красивый, памяти много Н...</td>\n",
       "      <td>1</td>\n",
       "    </tr>\n",
       "    <tr>\n",
       "      <th>2</th>\n",
       "      <td>Удобный, громкий, хорошо сидит в руке.</td>\n",
       "      <td>1</td>\n",
       "    </tr>\n",
       "    <tr>\n",
       "      <th>3</th>\n",
       "      <td>неплохие камеры, шустрость начинки, удобный ра...</td>\n",
       "      <td>1</td>\n",
       "    </tr>\n",
       "    <tr>\n",
       "      <th>4</th>\n",
       "      <td>После включения обновляем прошивку, далее с по...</td>\n",
       "      <td>1</td>\n",
       "    </tr>\n",
       "    <tr>\n",
       "      <th>...</th>\n",
       "      <td>...</td>\n",
       "      <td>...</td>\n",
       "    </tr>\n",
       "    <tr>\n",
       "      <th>19424</th>\n",
       "      <td>Цена Пока что нет -</td>\n",
       "      <td>1</td>\n",
       "    </tr>\n",
       "    <tr>\n",
       "      <th>19425</th>\n",
       "      <td>Для смартфона столь доступного по цене достоин...</td>\n",
       "      <td>1</td>\n",
       "    </tr>\n",
       "    <tr>\n",
       "      <th>19426</th>\n",
       "      <td>Камера Внешний вид Эргономика Плавность и быст...</td>\n",
       "      <td>1</td>\n",
       "    </tr>\n",
       "    <tr>\n",
       "      <th>19427</th>\n",
       "      <td>Неплохая автономность, 10,5 часов работы экран...</td>\n",
       "      <td>1</td>\n",
       "    </tr>\n",
       "    <tr>\n",
       "      <th>19428</th>\n",
       "      <td>Отзывчивый экран, чистый андроид, не плохая ка...</td>\n",
       "      <td>1</td>\n",
       "    </tr>\n",
       "  </tbody>\n",
       "</table>\n",
       "<p>19429 rows × 2 columns</p>\n",
       "</div>"
      ],
      "text/plain": [
       "                                                    text  label\n",
       "0      Долго держит заряд. Яркий и четкий экран. Есть...      1\n",
       "1      Камера, шустрый, цвет красивый, памяти много Н...      1\n",
       "2                 Удобный, громкий, хорошо сидит в руке.      1\n",
       "3      неплохие камеры, шустрость начинки, удобный ра...      1\n",
       "4      После включения обновляем прошивку, далее с по...      1\n",
       "...                                                  ...    ...\n",
       "19424                                Цена Пока что нет -      1\n",
       "19425  Для смартфона столь доступного по цене достоин...      1\n",
       "19426  Камера Внешний вид Эргономика Плавность и быст...      1\n",
       "19427  Неплохая автономность, 10,5 часов работы экран...      1\n",
       "19428  Отзывчивый экран, чистый андроид, не плохая ка...      1\n",
       "\n",
       "[19429 rows x 2 columns]"
      ]
     },
     "execution_count": 3,
     "metadata": {},
     "output_type": "execute_result"
    }
   ],
   "source": [
    "data_ym_classes = pd.read_csv('data_ym_classes.tsv', sep='\\t')\n",
    "data_ym_classes"
   ]
  },
  {
   "cell_type": "markdown",
   "metadata": {},
   "source": [
    "Посмотрим на соотношение классов."
   ]
  },
  {
   "cell_type": "code",
   "execution_count": 4,
   "metadata": {},
   "outputs": [
    {
     "name": "stdout",
     "output_type": "stream",
     "text": [
      "1    17779\n",
      "0     1650\n",
      "Name: label, dtype: int64\n"
     ]
    }
   ],
   "source": [
    "print(data_ym_classes.label.value_counts())"
   ]
  },
  {
   "cell_type": "markdown",
   "metadata": {},
   "source": [
    "Как можно видеть, классы сильно несбалансированы. Этот факт следует учесть при выборе модели и оценке её качества."
   ]
  },
  {
   "cell_type": "markdown",
   "metadata": {},
   "source": [
    "Получим отдельно тексты отзывов и метки классов. В дальнейшем это понадобится для использования интерфейса библиотеки sklearn."
   ]
  },
  {
   "cell_type": "code",
   "execution_count": 5,
   "metadata": {},
   "outputs": [],
   "source": [
    "texts = data_ym_classes.text\n",
    "class_labels = data_ym_classes.label"
   ]
  },
  {
   "cell_type": "markdown",
   "metadata": {},
   "source": [
    "### Лемматизация текстов\n",
    "Загрузим предварительно обученный лемматайзер для русского языка с помощью библиотеки spacy. Лемматайзер позволяет заменить слова в тексте на их начальные формы, что должно повысить качество модели, так как иначе различные формы одного слова она будет воспринимать как разные слова. Конечно, при этом теряется часть информации, однако для относительно простых моделей, не способных понимать сложные взаимодействия форм слов, качество обычно возрастает."
   ]
  },
  {
   "cell_type": "code",
   "execution_count": 6,
   "metadata": {},
   "outputs": [],
   "source": [
    "lemmatizer = spacy.load('ru_core_news_sm', disable=['parser', 'ner'])"
   ]
  },
  {
   "cell_type": "markdown",
   "metadata": {},
   "source": [
    "Определим вспомогательную функцию lemmatize, принимающую на вход строку и возвращающую эту же строку, где все слова заменены на свои начальные формы."
   ]
  },
  {
   "cell_type": "code",
   "execution_count": 7,
   "metadata": {},
   "outputs": [],
   "source": [
    "def lemmatize(text):\n",
    "    # Сначала к тексту применяется лемматайзер, после чего соответствующая лемма для каждого \n",
    "    # токена может быть получена с помощью token.lemma_. Отдельные токены необходимо получить \n",
    "    # итерацией по объекту, возвращаемому вызовом lemmatizer(text). Полученные леммы затем \n",
    "    # снова объединяются в одну строку.\n",
    "    return ' '.join(token.lemma_ for token in lemmatizer(text))"
   ]
  },
  {
   "cell_type": "markdown",
   "metadata": {},
   "source": [
    "Векторизуем lemmatize с помощью функции vectorize из библиотеки numpy. Векторизованная функция работает быстрее, нежели метод apply, а это важно, так как операции по лемматизации занимают существенное время."
   ]
  },
  {
   "cell_type": "code",
   "execution_count": 8,
   "metadata": {},
   "outputs": [],
   "source": [
    "lemmatize_texts = vectorize(lemmatize)"
   ]
  },
  {
   "cell_type": "markdown",
   "metadata": {},
   "source": [
    "Применим лемматизацию к текстам отзывов."
   ]
  },
  {
   "cell_type": "code",
   "execution_count": 9,
   "metadata": {},
   "outputs": [
    {
     "name": "stdout",
     "output_type": "stream",
     "text": [
      "CPU times: user 6min 9s, sys: 502 ms, total: 6min 10s\n",
      "Wall time: 6min 10s\n"
     ]
    }
   ],
   "source": [
    "%%time\n",
    "texts_lemmatized = lemmatize_texts(texts)"
   ]
  },
  {
   "cell_type": "markdown",
   "metadata": {},
   "source": [
    "### Построение пайплайна\n",
    "Создадим пайплайн, воспользовавшись модулем pipeline библиотеки sklearn. Объект Pipeline позволяет выполнять последовательные преобразования данных, а также имеет стандартный интерфейс sklearn, что даёт возможность напрямую передавать его в методы объектов sklearn, реализующих поиск оптимальных параметров по сетке."
   ]
  },
  {
   "cell_type": "markdown",
   "metadata": {},
   "source": [
    "Передадим конструктору Pipeline список последовательных преобразований, которые необходимо выполнить с данными. К текстам сначала применяется векторизация (каждому тексту сопоставляется вектор в n-мерном вещественном евклидовом пространстве), затем нормализация (каждый из векторов приводится к единичной длине), после чего матрица полученных признаков вместе с метками классов передаётся классификатору."
   ]
  },
  {
   "cell_type": "markdown",
   "metadata": {},
   "source": [
    "Для векторизации текстов воспользуемся модулем sklearn.preprocessing.text. Оттуда нам понадобятся классы CountVectorizer и TfidfVectorizer. Какой из них использовать, будем решать на основании перебора по сетке."
   ]
  },
  {
   "cell_type": "markdown",
   "metadata": {},
   "source": [
    "Для нормализации текста возьмём класс Normalizer из модуля sklearn.preprocessing. "
   ]
  },
  {
   "cell_type": "markdown",
   "metadata": {},
   "source": [
    "Наконец, в качестве классификатора возьмём линейный svm. Во-первых, известно, что линейные модели в целом и svm в частности показывают неплохие результаты в задачах классификации текстов. Во-вторых, реализация LinearSVC из модуля svc библиотеки sklearn поддерживает балансировку классов весами, что актуально для нашего случая несбалансированных классов в обучающей выборке."
   ]
  },
  {
   "cell_type": "code",
   "execution_count": 10,
   "metadata": {},
   "outputs": [],
   "source": [
    "pipe = Pipeline([\n",
    "    ('vectorizer', CountVectorizer()), \n",
    "    ('normalizer', Normalizer()),\n",
    "    \n",
    "    # Чтобы выполнялась балансировка классов весами, необходимо указать параметр class_weight='balanced'.\n",
    "    # Для воспроизводимости результатов укажем random_state=0.\n",
    "    ('estimator', LinearSVC(class_weight='balanced', random_state=0)),\n",
    "])"
   ]
  },
  {
   "cell_type": "markdown",
   "metadata": {},
   "source": [
    "### Поиск оптимальных параметров\n",
    "Посмотрим на список всех доступных параметров пайплайна."
   ]
  },
  {
   "cell_type": "code",
   "execution_count": 11,
   "metadata": {},
   "outputs": [
    {
     "data": {
      "text/plain": [
       "{'memory': None,\n",
       " 'steps': [('vectorizer', CountVectorizer()),\n",
       "  ('normalizer', Normalizer()),\n",
       "  ('estimator', LinearSVC(class_weight='balanced', random_state=0))],\n",
       " 'verbose': False,\n",
       " 'vectorizer': CountVectorizer(),\n",
       " 'normalizer': Normalizer(),\n",
       " 'estimator': LinearSVC(class_weight='balanced', random_state=0),\n",
       " 'vectorizer__analyzer': 'word',\n",
       " 'vectorizer__binary': False,\n",
       " 'vectorizer__decode_error': 'strict',\n",
       " 'vectorizer__dtype': numpy.int64,\n",
       " 'vectorizer__encoding': 'utf-8',\n",
       " 'vectorizer__input': 'content',\n",
       " 'vectorizer__lowercase': True,\n",
       " 'vectorizer__max_df': 1.0,\n",
       " 'vectorizer__max_features': None,\n",
       " 'vectorizer__min_df': 1,\n",
       " 'vectorizer__ngram_range': (1, 1),\n",
       " 'vectorizer__preprocessor': None,\n",
       " 'vectorizer__stop_words': None,\n",
       " 'vectorizer__strip_accents': None,\n",
       " 'vectorizer__token_pattern': '(?u)\\\\b\\\\w\\\\w+\\\\b',\n",
       " 'vectorizer__tokenizer': None,\n",
       " 'vectorizer__vocabulary': None,\n",
       " 'normalizer__copy': True,\n",
       " 'normalizer__norm': 'l2',\n",
       " 'estimator__C': 1.0,\n",
       " 'estimator__class_weight': 'balanced',\n",
       " 'estimator__dual': True,\n",
       " 'estimator__fit_intercept': True,\n",
       " 'estimator__intercept_scaling': 1,\n",
       " 'estimator__loss': 'squared_hinge',\n",
       " 'estimator__max_iter': 1000,\n",
       " 'estimator__multi_class': 'ovr',\n",
       " 'estimator__penalty': 'l2',\n",
       " 'estimator__random_state': 0,\n",
       " 'estimator__tol': 0.0001,\n",
       " 'estimator__verbose': 0}"
      ]
     },
     "execution_count": 11,
     "metadata": {},
     "output_type": "execute_result"
    }
   ],
   "source": [
    "pipe.get_params()"
   ]
  },
  {
   "cell_type": "markdown",
   "metadata": {},
   "source": [
    "Для поиска оптимальных значений параметров пайплайна будем сравнивать их комбинации с помощью кросс-валидации по пяти фолдам."
   ]
  },
  {
   "cell_type": "markdown",
   "metadata": {},
   "source": [
    "Так как полный перебор по сетке занимает много времени, сначала попробуем сузить область поиска оптимальных параметров, применив случайный поиск по сетке. Библиотека sklearn предоставляет интерфейс для такого поиска с помощью класса RandomizedSearchCV из модуля model_selection. Для его использования необходимо сначала задать сетку параметров, по которой будет вестись случайный поиск."
   ]
  },
  {
   "cell_type": "code",
   "execution_count": 34,
   "metadata": {},
   "outputs": [],
   "source": [
    "param_grid_randomized = {\n",
    "    'vectorizer': [CountVectorizer(), TfidfVectorizer()], \n",
    "    'vectorizer__binary': [False, True], \n",
    "    'vectorizer__max_df': [1.0, 0.75, 0.5], \n",
    "    'vectorizer__min_df': [1, 5, 10, 25], \n",
    "    'vectorizer__ngram_range': [(1, 1), (1, 2), (1, 3), (1, 4)],\n",
    "    'estimator__C': [0.1, 0.5, 1.0, 2.0, 3.0], \n",
    "}"
   ]
  },
  {
   "cell_type": "markdown",
   "metadata": {},
   "source": [
    "Так как классы несбалансированы, то в качестве метрики будем использовать сбалансированную точность, реализация которой есть в sklearn. Чтобы использовать метрику при поиске по сетке, интерфейс sklearn требует создать объект scorer с помощью функции make_scorer."
   ]
  },
  {
   "cell_type": "code",
   "execution_count": 13,
   "metadata": {},
   "outputs": [],
   "source": [
    "scorer = make_scorer(balanced_accuracy_score)"
   ]
  },
  {
   "cell_type": "markdown",
   "metadata": {},
   "source": [
    "Теперь произведём случайный поиск по сетке, указав число итераций (проверяемых наборов параметров), равное 50."
   ]
  },
  {
   "cell_type": "code",
   "execution_count": 35,
   "metadata": {},
   "outputs": [
    {
     "name": "stdout",
     "output_type": "stream",
     "text": [
      "CPU times: user 19min 33s, sys: 41 s, total: 20min 14s\n",
      "Wall time: 22min 36s\n"
     ]
    },
    {
     "data": {
      "text/plain": [
       "RandomizedSearchCV(estimator=Pipeline(steps=[('vectorizer', CountVectorizer()),\n",
       "                                             ('normalizer', Normalizer()),\n",
       "                                             ('estimator',\n",
       "                                              LinearSVC(class_weight='balanced',\n",
       "                                                        random_state=0))]),\n",
       "                   n_iter=50,\n",
       "                   param_distributions={'estimator__C': [0.1, 0.5, 1.0, 2.0,\n",
       "                                                         3.0],\n",
       "                                        'vectorizer': [CountVectorizer(binary=True,\n",
       "                                                                       min_df=5,\n",
       "                                                                       ngram_range=(1,\n",
       "                                                                                    4)),\n",
       "                                                       TfidfVectorizer()],\n",
       "                                        'vectorizer__binary': [False, True],\n",
       "                                        'vectorizer__max_df': [1.0, 0.75, 0.5],\n",
       "                                        'vectorizer__min_df': [1, 5, 10, 25],\n",
       "                                        'vectorizer__ngram_range': [(1, 1),\n",
       "                                                                    (1, 2),\n",
       "                                                                    (1, 3),\n",
       "                                                                    (1, 4)]},\n",
       "                   random_state=0,\n",
       "                   scoring=make_scorer(balanced_accuracy_score))"
      ]
     },
     "execution_count": 35,
     "metadata": {},
     "output_type": "execute_result"
    }
   ],
   "source": [
    "%%time\n",
    "\n",
    "# Передаём созданный ранее объект scorer, отвещающий за вычисление метрики balanced_accuracy_score.\n",
    "# Также укажем random_state=0, чтобы результаты были воспроизводимы.\n",
    "grid_search_randomized = RandomizedSearchCV(pipe, param_grid_randomized, n_iter=50, \n",
    "                                            scoring=scorer, random_state=0)\n",
    "grid_search_randomized.fit(texts_lemmatized, class_labels)"
   ]
  },
  {
   "cell_type": "markdown",
   "metadata": {},
   "source": [
    "Выведем на экран значение метрики лучшей из моделей и её параметры."
   ]
  },
  {
   "cell_type": "code",
   "execution_count": 36,
   "metadata": {},
   "outputs": [
    {
     "name": "stdout",
     "output_type": "stream",
     "text": [
      "Значение метрики лучшей из моделей: 0.8775\n",
      "Параметры лучшей из моделей: {'vectorizer__ngram_range': (1, 4), 'vectorizer__min_df': 5, 'vectorizer__max_df': 1.0, 'vectorizer__binary': True, 'vectorizer': CountVectorizer(binary=True, min_df=5, ngram_range=(1, 4)), 'estimator__C': 0.1}\n"
     ]
    }
   ],
   "source": [
    "print(f'Значение метрики лучшей из моделей: {grid_search_randomized.best_score_:.4f}')\n",
    "print(f'Параметры лучшей из моделей: {grid_search_randomized.best_params_}')"
   ]
  },
  {
   "cell_type": "markdown",
   "metadata": {},
   "source": [
    "Создадим новую сетку параметров в окрестности найденных в предыдущем шаге. По этой новой сетке будем вести полный перебор."
   ]
  },
  {
   "cell_type": "code",
   "execution_count": 22,
   "metadata": {},
   "outputs": [],
   "source": [
    "param_grid = {\n",
    "    'vectorizer__ngram_range': [(1, 4)],\n",
    "    'vectorizer__min_df': [3, 5, 7],\n",
    "    'vectorizer__max_df': [0.9, 0.95, 1.0],\n",
    "    'vectorizer__binary': [True],\n",
    "    'vectorizer': [CountVectorizer()],\n",
    "    'estimator__C': [0.01, 0.05, 0.1, 0.2],\n",
    "}"
   ]
  },
  {
   "cell_type": "markdown",
   "metadata": {},
   "source": [
    "Полный поиск по сетке производится аналогично случайному, с той лишь разницей, что при этом используется класс GridSearchCV из библиотеки sklearn."
   ]
  },
  {
   "cell_type": "code",
   "execution_count": 23,
   "metadata": {},
   "outputs": [
    {
     "name": "stdout",
     "output_type": "stream",
     "text": [
      "CPU times: user 16min 10s, sys: 56.7 s, total: 17min 6s\n",
      "Wall time: 17min 13s\n"
     ]
    },
    {
     "data": {
      "text/plain": [
       "GridSearchCV(estimator=Pipeline(steps=[('vectorizer', CountVectorizer()),\n",
       "                                       ('normalizer', Normalizer()),\n",
       "                                       ('estimator',\n",
       "                                        LinearSVC(class_weight='balanced',\n",
       "                                                  random_state=0))]),\n",
       "             param_grid={'estimator__C': [0.01, 0.05, 0.1, 0.2],\n",
       "                         'vectorizer': [CountVectorizer(binary=True, max_df=0.9,\n",
       "                                                        min_df=7,\n",
       "                                                        ngram_range=(1, 4))],\n",
       "                         'vectorizer__binary': [True],\n",
       "                         'vectorizer__max_df': [0.9, 0.95, 1.0],\n",
       "                         'vectorizer__min_df': [3, 5, 7],\n",
       "                         'vectorizer__ngram_range': [(1, 4)]},\n",
       "             scoring=make_scorer(balanced_accuracy_score))"
      ]
     },
     "execution_count": 23,
     "metadata": {},
     "output_type": "execute_result"
    }
   ],
   "source": [
    "%%time\n",
    "\n",
    "# На этот раз параметры n_iter и random_state указывать не нужно.\n",
    "grid_search = GridSearchCV(pipe, param_grid, scoring=scorer)\n",
    "grid_search.fit(texts_lemmatized, class_labels)"
   ]
  },
  {
   "cell_type": "markdown",
   "metadata": {},
   "source": [
    "Наконец, выведем на экран значение метрики и параметры лучшей модели."
   ]
  },
  {
   "cell_type": "code",
   "execution_count": 32,
   "metadata": {},
   "outputs": [
    {
     "name": "stdout",
     "output_type": "stream",
     "text": [
      "Значение метрики лучшей из моделей: 0.8781\n",
      "Параметры лучшей из моделей: {'estimator__C': 0.05, 'vectorizer': CountVectorizer(binary=True, max_df=0.9, min_df=7, ngram_range=(1, 4)), 'vectorizer__binary': True, 'vectorizer__max_df': 0.9, 'vectorizer__min_df': 7, 'vectorizer__ngram_range': (1, 4)}\n"
     ]
    }
   ],
   "source": [
    "print(f'Значение метрики лучшей из моделей: {grid_search.best_score_:.4f}')\n",
    "print(f'Параметры лучшей из моделей: {grid_search.best_params_}')"
   ]
  },
  {
   "cell_type": "markdown",
   "metadata": {},
   "source": [
    "### Создание финального пайплайна\n",
    "Теперь создадим новый пайплайн, включив в него этап с лемматизацией текстов. До этого лемматизация выполнялась отдельно, так как иначе кросс-валидация происходила бы намного медленнее. Воспользуемся функцией make_pipline из модуля sklearn.pipeline, так как здесь нам не нужно давать названия этапам."
   ]
  },
  {
   "cell_type": "markdown",
   "metadata": {},
   "source": [
    "Чтобы была возможность включить в пайплайн лемматизацию, необходимо сначала преобразовать функцию lemmatize_texts в объект с интерфейсом, требуемым sklearn. Сделать это можно просто, благодаря вспомогательному классу FunctionTransformer, конструктор которого делает именно то, что нам нужно."
   ]
  },
  {
   "cell_type": "code",
   "execution_count": 42,
   "metadata": {},
   "outputs": [],
   "source": [
    "texts_lemmatizer = FunctionTransformer(lemmatize_texts)\n",
    "\n",
    "final_model = make_pipeline(\n",
    "    texts_lemmatizer,\n",
    "    \n",
    "    # Модель, показавшая наилучшее качество на кросс-валидации.\n",
    "    grid_search.best_estimator_\n",
    ")"
   ]
  },
  {
   "cell_type": "markdown",
   "metadata": {},
   "source": [
    "## Проверка качества обученной модели\n",
    "### Загрузка тестовой выборки\n",
    "Данные тестовой выборки находятся в файле под названием \"data_test.tsv\". Загрузим их, чтобы оценить качество финальной модели."
   ]
  },
  {
   "cell_type": "code",
   "execution_count": 26,
   "metadata": {},
   "outputs": [
    {
     "data": {
      "text/html": [
       "<div>\n",
       "<style scoped>\n",
       "    .dataframe tbody tr th:only-of-type {\n",
       "        vertical-align: middle;\n",
       "    }\n",
       "\n",
       "    .dataframe tbody tr th {\n",
       "        vertical-align: top;\n",
       "    }\n",
       "\n",
       "    .dataframe thead th {\n",
       "        text-align: right;\n",
       "    }\n",
       "</style>\n",
       "<table border=\"1\" class=\"dataframe\">\n",
       "  <thead>\n",
       "    <tr style=\"text-align: right;\">\n",
       "      <th></th>\n",
       "      <th>text</th>\n",
       "      <th>label</th>\n",
       "    </tr>\n",
       "  </thead>\n",
       "  <tbody>\n",
       "    <tr>\n",
       "      <th>0</th>\n",
       "      <td>Ужасно слабый аккумулятор, это основной минус ...</td>\n",
       "      <td>0</td>\n",
       "    </tr>\n",
       "    <tr>\n",
       "      <th>1</th>\n",
       "      <td>ценанадежность-неубиваемостьдолго держит батар...</td>\n",
       "      <td>1</td>\n",
       "    </tr>\n",
       "    <tr>\n",
       "      <th>2</th>\n",
       "      <td>подробнее в комментариях К сожалению, факт пол...</td>\n",
       "      <td>0</td>\n",
       "    </tr>\n",
       "    <tr>\n",
       "      <th>3</th>\n",
       "      <td>я любительница громкой музыки. Тише телефона у...</td>\n",
       "      <td>0</td>\n",
       "    </tr>\n",
       "    <tr>\n",
       "      <th>4</th>\n",
       "      <td>Дата выпуска - 2011 г, емкость - 1430 mAh, тех...</td>\n",
       "      <td>1</td>\n",
       "    </tr>\n",
       "    <tr>\n",
       "      <th>...</th>\n",
       "      <td>...</td>\n",
       "      <td>...</td>\n",
       "    </tr>\n",
       "    <tr>\n",
       "      <th>95</th>\n",
       "      <td>Нет передней камеры, внутренняя память очень м...</td>\n",
       "      <td>0</td>\n",
       "    </tr>\n",
       "    <tr>\n",
       "      <th>96</th>\n",
       "      <td>Звук при прослушивание музыки хороший,не глючи...</td>\n",
       "      <td>1</td>\n",
       "    </tr>\n",
       "    <tr>\n",
       "      <th>97</th>\n",
       "      <td>Очень маленькая память забита вшитыми и соверш...</td>\n",
       "      <td>0</td>\n",
       "    </tr>\n",
       "    <tr>\n",
       "      <th>98</th>\n",
       "      <td>Удобный корпус,стандартное меню нокиа,камера д...</td>\n",
       "      <td>1</td>\n",
       "    </tr>\n",
       "    <tr>\n",
       "      <th>99</th>\n",
       "      <td>ПО, камера, отсутствие выбора приложение, нево...</td>\n",
       "      <td>0</td>\n",
       "    </tr>\n",
       "  </tbody>\n",
       "</table>\n",
       "<p>100 rows × 2 columns</p>\n",
       "</div>"
      ],
      "text/plain": [
       "                                                 text  label\n",
       "0   Ужасно слабый аккумулятор, это основной минус ...      0\n",
       "1   ценанадежность-неубиваемостьдолго держит батар...      1\n",
       "2   подробнее в комментариях К сожалению, факт пол...      0\n",
       "3   я любительница громкой музыки. Тише телефона у...      0\n",
       "4   Дата выпуска - 2011 г, емкость - 1430 mAh, тех...      1\n",
       "..                                                ...    ...\n",
       "95  Нет передней камеры, внутренняя память очень м...      0\n",
       "96  Звук при прослушивание музыки хороший,не глючи...      1\n",
       "97  Очень маленькая память забита вшитыми и соверш...      0\n",
       "98  Удобный корпус,стандартное меню нокиа,камера д...      1\n",
       "99  ПО, камера, отсутствие выбора приложение, нево...      0\n",
       "\n",
       "[100 rows x 2 columns]"
      ]
     },
     "execution_count": 26,
     "metadata": {},
     "output_type": "execute_result"
    }
   ],
   "source": [
    "data_test = pd.read_csv('data_test.tsv', sep='\\t')\n",
    "data_test"
   ]
  },
  {
   "cell_type": "markdown",
   "metadata": {},
   "source": [
    "Разделим данные на признаки и метки классов."
   ]
  },
  {
   "cell_type": "code",
   "execution_count": 43,
   "metadata": {},
   "outputs": [],
   "source": [
    "texts_test = data_test.text\n",
    "class_labels_test = data_test.label"
   ]
  },
  {
   "cell_type": "markdown",
   "metadata": {},
   "source": [
    "### Проверка модели на тестовой выборке\n",
    "Для вычисления метрики точность полученной модели, сначала получим её предсказания на тестовой выборке, а затем передадим их в функцию accuracy_score из библиотеки sklearn."
   ]
  },
  {
   "cell_type": "code",
   "execution_count": 45,
   "metadata": {},
   "outputs": [
    {
     "name": "stdout",
     "output_type": "stream",
     "text": [
      "Точность модели на тестовой выборке: 0.87\n"
     ]
    }
   ],
   "source": [
    "# Получаем предсказания модели.\n",
    "class_labels_pred_test = final_model.predict(texts_test)\n",
    "\n",
    "# Вычисляем точность предсказаний.\n",
    "accuracy_score_test = accuracy_score(class_labels_pred_test, class_labels_test)\n",
    "\n",
    "# Выводим значение метрики на экран.\n",
    "print(f'Точность модели на тестовой выборке: {accuracy_score_test}')"
   ]
  },
  {
   "cell_type": "markdown",
   "metadata": {},
   "source": [
    "Точность полученной модели превосходит 0.85, что означает успешное выполнение поставленной изначально задачи."
   ]
  },
  {
   "cell_type": "markdown",
   "metadata": {},
   "source": [
    "## Выводы по проекту"
   ]
  },
  {
   "cell_type": "markdown",
   "metadata": {},
   "source": [
    "### Для получения лучших результатов можно было бы:\n",
    "1) Собрать более качественную обучающую выборку. Это почти всегда является самым простым и действенным решением. В собранных для данного проекта данных явно недоставало негативных отзывов (чуть больше полутора тысяч), что вполне могло оказать негативное влияние на качество результирующей модели."
   ]
  },
  {
   "cell_type": "markdown",
   "metadata": {},
   "source": [
    "2) Построить дополнительные признаки на этапе предварительной обработки данных. Например, можно было включить в качестве признака длину отзыва или знаки препинания, присутствующие в нём. Такое добавление признаков (feature engineering) часто способно существенно повысить качество модели при относительно небольших затратах времени.ь"
   ]
  },
  {
   "cell_type": "markdown",
   "metadata": {},
   "source": [
    "3) Использовать более сложные модели. Известно, что предобученные нейросетевые модели показывают state-of-the-art результаты в задачах, связанных с обработкой естественного языка (примерами таких моделей являются BERT и его модификации). Применение таких моделей требует доступа к существенным вычислительным мощностям, а также навыков работы с нейронными сетями, однако это действенный способ повысить качество модели."
   ]
  }
 ],
 "metadata": {
  "kernelspec": {
   "display_name": "env",
   "language": "python",
   "name": "env"
  },
  "language_info": {
   "codemirror_mode": {
    "name": "ipython",
    "version": 3
   },
   "file_extension": ".py",
   "mimetype": "text/x-python",
   "name": "python",
   "nbconvert_exporter": "python",
   "pygments_lexer": "ipython3",
   "version": "3.8.10"
  }
 },
 "nbformat": 4,
 "nbformat_minor": 4
}
